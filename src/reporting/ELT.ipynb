{
 "cells": [
  {
   "cell_type": "markdown",
   "id": "375b7b82-0b97-4ef9-9636-3133abf8621c",
   "metadata": {},
   "source": [
    "# Creación de la base en Athena"
   ]
  },
  {
   "cell_type": "code",
   "execution_count": 11,
   "id": "867ef937-d3c8-4468-bfde-466089d6292a",
   "metadata": {
    "tags": []
   },
   "outputs": [],
   "source": [
    "# Importar librerías\n",
    "import os\n",
    "import pandas as pd\n",
    "import numpy as np"
   ]
  },
  {
   "cell_type": "code",
   "execution_count": 2,
   "id": "c371fc33-e3b2-4fb0-b9aa-664c336908f6",
   "metadata": {
    "tags": []
   },
   "outputs": [],
   "source": [
    "# Abres un cliente de S3\n",
    "import boto3\n",
    "session = boto3.Session(profile_name='datascientist')"
   ]
  },
  {
   "cell_type": "code",
   "execution_count": 3,
   "id": "19d291bb-a74c-4a10-96a0-dd02b35c89b5",
   "metadata": {
    "tags": []
   },
   "outputs": [],
   "source": [
    "glue = boto3.client('glue', region_name='us-east-1')"
   ]
  },
  {
   "cell_type": "code",
   "execution_count": 4,
   "id": "a0adb915-13e3-444b-990c-bd03d915a464",
   "metadata": {
    "tags": []
   },
   "outputs": [
    {
     "data": {
      "text/plain": [
       "{'ResponseMetadata': {'RequestId': 'a86cecad-0a2d-45d9-9383-885234349a27',\n",
       "  'HTTPStatusCode': 200,\n",
       "  'HTTPHeaders': {'date': 'Mon, 22 May 2023 04:38:49 GMT',\n",
       "   'content-type': 'application/x-amz-json-1.1',\n",
       "   'content-length': '2',\n",
       "   'connection': 'keep-alive',\n",
       "   'x-amzn-requestid': 'a86cecad-0a2d-45d9-9383-885234349a27'},\n",
       "  'RetryAttempts': 0}}"
      ]
     },
     "execution_count": 4,
     "metadata": {},
     "output_type": "execute_result"
    }
   ],
   "source": [
    "response = glue.create_database(\n",
    "    DatabaseInput={\n",
    "        'Name': 'consultaDenuelogs',\n",
    "        'Description': 'Base de datos que contiene los logs de la aplicación de Consulta tu Negocio',\n",
    "    }\n",
    ")\n",
    "response"
   ]
  },
  {
   "cell_type": "code",
   "execution_count": 5,
   "id": "5ecd060d-e7fc-44be-8d43-7e5f4b03e2d4",
   "metadata": {
    "tags": []
   },
   "outputs": [],
   "source": [
    "import awswrangler as wr"
   ]
  },
  {
   "cell_type": "code",
   "execution_count": 6,
   "id": "2276d5b2-1d47-43da-9489-e41f89d16186",
   "metadata": {
    "tags": []
   },
   "outputs": [],
   "source": [
    "query = \"\"\"CREATE EXTERNAL TABLE IF NOT EXISTS consultaDenuelogs.daily_logs_consulta (\n",
    "        `giro` string,\n",
    "        `size` string,\n",
    "        `lugar` string,\n",
    "        `correo` string,\n",
    "        `telefono` string,\n",
    "        `timestamp` string\n",
    "        )\n",
    "        ROW FORMAT SERDE 'org.openx.data.jsonserde.JsonSerDe'\n",
    "        WITH SERDEPROPERTIES (\n",
    "        'serialization.format' = '1',\n",
    "        'case.insensitive'='false',\n",
    "        'mapping.name'='name',\n",
    "        'mapping.giro'='giro',\n",
    "        'mapping.size'='size',\n",
    "        'mapping.lugar'='lugar',\n",
    "        'mapping.telefono'='telefono',\n",
    "        'mapping.timestamp'='timestamp'\n",
    "        ) LOCATION 's3://denue-logs-consulta/'\n",
    "        TBLPROPERTIES ('has_encrypted_data'='false')\n",
    "        \"\"\""
   ]
  },
  {
   "cell_type": "code",
   "execution_count": 7,
   "id": "1be32d9f-d4cb-4422-ab6a-7b373a75ddc8",
   "metadata": {
    "tags": []
   },
   "outputs": [
    {
     "data": {
      "text/html": [
       "<div>\n",
       "<style scoped>\n",
       "    .dataframe tbody tr th:only-of-type {\n",
       "        vertical-align: middle;\n",
       "    }\n",
       "\n",
       "    .dataframe tbody tr th {\n",
       "        vertical-align: top;\n",
       "    }\n",
       "\n",
       "    .dataframe thead th {\n",
       "        text-align: right;\n",
       "    }\n",
       "</style>\n",
       "<table border=\"1\" class=\"dataframe\">\n",
       "  <thead>\n",
       "    <tr style=\"text-align: right;\">\n",
       "      <th></th>\n",
       "    </tr>\n",
       "  </thead>\n",
       "  <tbody>\n",
       "  </tbody>\n",
       "</table>\n",
       "</div>"
      ],
      "text/plain": [
       "Empty DataFrame\n",
       "Columns: []\n",
       "Index: []"
      ]
     },
     "execution_count": 7,
     "metadata": {},
     "output_type": "execute_result"
    }
   ],
   "source": [
    "wr.athena.read_sql_query(query, database=\"consultaDenuelogs\", ctas_approach=False)"
   ]
  },
  {
   "cell_type": "code",
   "execution_count": 8,
   "id": "6569e259-2282-473c-a9d0-e9c7df4a8e0e",
   "metadata": {
    "tags": []
   },
   "outputs": [],
   "source": [
    "query = '''SELECT * FROM consultaDenuelogs.daily_logs_consulta'''"
   ]
  },
  {
   "cell_type": "code",
   "execution_count": 9,
   "id": "ac2dd1e8-f62e-46db-84a7-56a43d240f64",
   "metadata": {
    "tags": []
   },
   "outputs": [],
   "source": [
    "data = wr.athena.read_sql_query(\n",
    "    query, \n",
    "    database=\"consultaDenuelogs\", \n",
    "    ctas_approach=False\n",
    ")"
   ]
  },
  {
   "cell_type": "code",
   "execution_count": 12,
   "id": "971efc47-8ecf-4965-97ad-c4a62d332845",
   "metadata": {
    "tags": []
   },
   "outputs": [
    {
     "data": {
      "text/html": [
       "<div>\n",
       "<style scoped>\n",
       "    .dataframe tbody tr th:only-of-type {\n",
       "        vertical-align: middle;\n",
       "    }\n",
       "\n",
       "    .dataframe tbody tr th {\n",
       "        vertical-align: top;\n",
       "    }\n",
       "\n",
       "    .dataframe thead th {\n",
       "        text-align: right;\n",
       "    }\n",
       "</style>\n",
       "<table border=\"1\" class=\"dataframe\">\n",
       "  <thead>\n",
       "    <tr style=\"text-align: right;\">\n",
       "      <th></th>\n",
       "      <th>giro</th>\n",
       "      <th>size</th>\n",
       "      <th>lugar</th>\n",
       "      <th>correo</th>\n",
       "      <th>telefono</th>\n",
       "      <th>timestamp</th>\n",
       "    </tr>\n",
       "  </thead>\n",
       "  <tbody>\n",
       "    <tr>\n",
       "      <th>0</th>\n",
       "      <td>comida</td>\n",
       "      <td>0 a 5 personas</td>\n",
       "      <td>avenida</td>\n",
       "      <td>edad</td>\n",
       "      <td>33361</td>\n",
       "      <td>22/05/2023 02:03:27</td>\n",
       "    </tr>\n",
       "    <tr>\n",
       "      <th>1</th>\n",
       "      <td>5</td>\n",
       "      <td>2</td>\n",
       "      <td>&lt;NA&gt;</td>\n",
       "      <td>edadlogo48@gmai.com</td>\n",
       "      <td>3336613017</td>\n",
       "      <td>22/05/2023 01:17:06</td>\n",
       "    </tr>\n",
       "    <tr>\n",
       "      <th>2</th>\n",
       "      <td>comida</td>\n",
       "      <td>11 a 30 personas</td>\n",
       "      <td>avenida</td>\n",
       "      <td>edadlogo48@gmail.com</td>\n",
       "      <td>12312312</td>\n",
       "      <td>22/05/2023 03:33:21</td>\n",
       "    </tr>\n",
       "    <tr>\n",
       "      <th>3</th>\n",
       "      <td>comida</td>\n",
       "      <td>0 a 5 personas</td>\n",
       "      <td>avenida</td>\n",
       "      <td>edad</td>\n",
       "      <td>33361</td>\n",
       "      <td>22/05/2023 02:03:25</td>\n",
       "    </tr>\n",
       "    <tr>\n",
       "      <th>4</th>\n",
       "      <td>fgdfgd</td>\n",
       "      <td>0 a 5 personas</td>\n",
       "      <td>erwe</td>\n",
       "      <td>rtert</td>\n",
       "      <td>23423</td>\n",
       "      <td>22/05/2023 03:10:02</td>\n",
       "    </tr>\n",
       "    <tr>\n",
       "      <th>5</th>\n",
       "      <td>yuiyu</td>\n",
       "      <td>0 a 5 personas</td>\n",
       "      <td>uyiyu</td>\n",
       "      <td>yuiyu</td>\n",
       "      <td>345</td>\n",
       "      <td>22/05/2023 03:12:22</td>\n",
       "    </tr>\n",
       "    <tr>\n",
       "      <th>6</th>\n",
       "      <td>qweq</td>\n",
       "      <td>0 a 5 personas</td>\n",
       "      <td>qwe</td>\n",
       "      <td>rwerwe</td>\n",
       "      <td>sdfsd</td>\n",
       "      <td>22/05/2023 03:04:29</td>\n",
       "    </tr>\n",
       "  </tbody>\n",
       "</table>\n",
       "</div>"
      ],
      "text/plain": [
       "     giro              size    lugar                correo    telefono  \\\n",
       "0  comida    0 a 5 personas  avenida                  edad       33361   \n",
       "1       5                 2     <NA>   edadlogo48@gmai.com  3336613017   \n",
       "2  comida  11 a 30 personas  avenida  edadlogo48@gmail.com    12312312   \n",
       "3  comida    0 a 5 personas  avenida                  edad       33361   \n",
       "4  fgdfgd    0 a 5 personas     erwe                 rtert       23423   \n",
       "5   yuiyu    0 a 5 personas    uyiyu                 yuiyu         345   \n",
       "6    qweq    0 a 5 personas      qwe                rwerwe       sdfsd   \n",
       "\n",
       "             timestamp  \n",
       "0  22/05/2023 02:03:27  \n",
       "1  22/05/2023 01:17:06  \n",
       "2  22/05/2023 03:33:21  \n",
       "3  22/05/2023 02:03:25  \n",
       "4  22/05/2023 03:10:02  \n",
       "5  22/05/2023 03:12:22  \n",
       "6  22/05/2023 03:04:29  "
      ]
     },
     "execution_count": 12,
     "metadata": {},
     "output_type": "execute_result"
    }
   ],
   "source": [
    "data"
   ]
  },
  {
   "cell_type": "code",
   "execution_count": null,
   "id": "6f32fe4c-aff8-4984-b4a1-c9a85ab0f1d5",
   "metadata": {},
   "outputs": [],
   "source": []
  }
 ],
 "metadata": {
  "kernelspec": {
   "display_name": "Python 3 (ipykernel)",
   "language": "python",
   "name": "python3"
  },
  "language_info": {
   "codemirror_mode": {
    "name": "ipython",
    "version": 3
   },
   "file_extension": ".py",
   "mimetype": "text/x-python",
   "name": "python",
   "nbconvert_exporter": "python",
   "pygments_lexer": "ipython3",
   "version": "3.10.6"
  }
 },
 "nbformat": 4,
 "nbformat_minor": 5
}
