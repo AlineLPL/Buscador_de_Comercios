{
 "cells": [
  {
   "cell_type": "code",
   "execution_count": 9,
   "id": "ed2f5428",
   "metadata": {
    "tags": []
   },
   "outputs": [],
   "source": [
    "# Importar librerías\n",
    "import os\n",
    "import csv\n",
    "import pandas as pd\n",
    "import numpy as np\n",
    "import zipfile\n",
    "import requests\n",
    "import io\n",
    "from  model import comercio\n",
    "import warnings\n",
    "import boto3\n",
    "\n",
    "warnings.filterwarnings(\"ignore\")"
   ]
  },
  {
   "cell_type": "markdown",
   "id": "39a9abe1",
   "metadata": {},
   "source": [
    "# Lectura del .zip página INEGI"
   ]
  },
  {
   "cell_type": "code",
   "execution_count": 3,
   "id": "3edbcd03",
   "metadata": {
    "tags": []
   },
   "outputs": [],
   "source": [
    "PATH_GUESTS = \"https://www.inegi.org.mx/contenidos/masiva/denue/esenciales/Actividades_Economicas_No_Esenciales_csv.zip\"\n",
    "# Descargar el archivo zip\n",
    "response = requests.get(PATH_GUESTS)\n",
    "zip_file = zipfile.ZipFile(io.BytesIO(response.content))\n"
   ]
  },
  {
   "cell_type": "code",
   "execution_count": 4,
   "id": "0040b3b4",
   "metadata": {
    "tags": []
   },
   "outputs": [],
   "source": [
    "# Crear una carpeta para almacenar los archivos extraídos\n",
    "output_folder = \"data/\"  # Especifica la ruta de la carpeta de salida\n",
    "os.makedirs(output_folder, exist_ok=True)\n",
    "\n",
    "# Extraer todos los archivos CSV del ZIP\n",
    "csv_files = []\n",
    "for file_name in zip_file.namelist():\n",
    "    if file_name.endswith('.csv'):\n",
    "        csv_file = zip_file.extract(file_name, output_folder)\n",
    "        csv_files.append(csv_file)\n"
   ]
  },
  {
   "cell_type": "code",
   "execution_count": 5,
   "id": "8c8ae4d2",
   "metadata": {
    "tags": []
   },
   "outputs": [
    {
     "data": {
      "text/plain": [
       "'data/actividades_economicas_no_escenciales_csv/th_denue_act_NOesenciales_ent_01_09.csv'"
      ]
     },
     "execution_count": 5,
     "metadata": {},
     "output_type": "execute_result"
    }
   ],
   "source": [
    "csv_files[0]"
   ]
  },
  {
   "cell_type": "code",
   "execution_count": 10,
   "id": "bf39f5ea",
   "metadata": {
    "tags": []
   },
   "outputs": [
    {
     "name": "stderr",
     "output_type": "stream",
     "text": [
      "Skipping line 280230: expected 42 fields, saw 43\n",
      "\n",
      "Skipping line 188790: expected 42 fields, saw 43\n",
      "\n"
     ]
    }
   ],
   "source": [
    "df_t = pd.DataFrame()\n",
    "for i in range(len(csv_files)):\n",
    "    df = comercio.lecture_data(csv_files[i]) \n",
    "    df_t = pd.concat([df_t, df])"
   ]
  },
  {
   "cell_type": "code",
   "execution_count": 11,
   "id": "0233cf6f",
   "metadata": {
    "tags": []
   },
   "outputs": [
    {
     "data": {
      "text/html": [
       "<div>\n",
       "<style scoped>\n",
       "    .dataframe tbody tr th:only-of-type {\n",
       "        vertical-align: middle;\n",
       "    }\n",
       "\n",
       "    .dataframe tbody tr th {\n",
       "        vertical-align: top;\n",
       "    }\n",
       "\n",
       "    .dataframe thead th {\n",
       "        text-align: right;\n",
       "    }\n",
       "</style>\n",
       "<table border=\"1\" class=\"dataframe\">\n",
       "  <thead>\n",
       "    <tr style=\"text-align: right;\">\n",
       "      <th></th>\n",
       "      <th>nom_estab</th>\n",
       "      <th>raz_social</th>\n",
       "      <th>codigo_act</th>\n",
       "      <th>nombre_act</th>\n",
       "      <th>per_ocu</th>\n",
       "      <th>tipo_vial</th>\n",
       "      <th>nom_vial</th>\n",
       "      <th>tipo_v_e_1</th>\n",
       "      <th>nom_v_e_1</th>\n",
       "      <th>tipo_v_e_2</th>\n",
       "      <th>...</th>\n",
       "      <th>ageb</th>\n",
       "      <th>manzana</th>\n",
       "      <th>telefono</th>\n",
       "      <th>correoelec</th>\n",
       "      <th>www</th>\n",
       "      <th>tipoUniEco</th>\n",
       "      <th>latitud</th>\n",
       "      <th>longitud</th>\n",
       "      <th>fecha_alta</th>\n",
       "      <th>es_esencial</th>\n",
       "    </tr>\n",
       "    <tr>\n",
       "      <th>id</th>\n",
       "      <th></th>\n",
       "      <th></th>\n",
       "      <th></th>\n",
       "      <th></th>\n",
       "      <th></th>\n",
       "      <th></th>\n",
       "      <th></th>\n",
       "      <th></th>\n",
       "      <th></th>\n",
       "      <th></th>\n",
       "      <th></th>\n",
       "      <th></th>\n",
       "      <th></th>\n",
       "      <th></th>\n",
       "      <th></th>\n",
       "      <th></th>\n",
       "      <th></th>\n",
       "      <th></th>\n",
       "      <th></th>\n",
       "      <th></th>\n",
       "      <th></th>\n",
       "    </tr>\n",
       "  </thead>\n",
       "  <tbody>\n",
       "    <tr>\n",
       "      <th>6981122</th>\n",
       "      <td>EMBOBINADOS DAVILA</td>\n",
       "      <td>NaN</td>\n",
       "      <td>811312</td>\n",
       "      <td>Reparación y mantenimiento de maquinaria y equ...</td>\n",
       "      <td>1</td>\n",
       "      <td>CALLE</td>\n",
       "      <td>SALUD</td>\n",
       "      <td>PROLONGACION</td>\n",
       "      <td>AVENIDA POLIDUCTO</td>\n",
       "      <td>AVENIDA</td>\n",
       "      <td>...</td>\n",
       "      <td>2668</td>\n",
       "      <td>2</td>\n",
       "      <td>4492758040.0</td>\n",
       "      <td>EMBOBINADOSDAVILA@GMAIL.COM</td>\n",
       "      <td>NaN</td>\n",
       "      <td>NaN</td>\n",
       "      <td>21.869575</td>\n",
       "      <td>-102.243051</td>\n",
       "      <td>2019-11</td>\n",
       "      <td>0</td>\n",
       "    </tr>\n",
       "    <tr>\n",
       "      <th>6981121</th>\n",
       "      <td>DESECHABLES</td>\n",
       "      <td>NaN</td>\n",
       "      <td>465914</td>\n",
       "      <td>Comercio al por menor de artículos desechables</td>\n",
       "      <td>1</td>\n",
       "      <td>CALLE</td>\n",
       "      <td>SALUD</td>\n",
       "      <td>PROLONGACION</td>\n",
       "      <td>AVENIDA POLIDUCTO</td>\n",
       "      <td>AVENIDA</td>\n",
       "      <td>...</td>\n",
       "      <td>2668</td>\n",
       "      <td>2</td>\n",
       "      <td>4493692373.0</td>\n",
       "      <td>NaN</td>\n",
       "      <td>NaN</td>\n",
       "      <td>NaN</td>\n",
       "      <td>21.869584</td>\n",
       "      <td>-102.243079</td>\n",
       "      <td>2019-11</td>\n",
       "      <td>0</td>\n",
       "    </tr>\n",
       "    <tr>\n",
       "      <th>6981120</th>\n",
       "      <td>ROPA AMERICANA</td>\n",
       "      <td>NaN</td>\n",
       "      <td>465215</td>\n",
       "      <td>Comercio al por menor de artículos y aparatos ...</td>\n",
       "      <td>1</td>\n",
       "      <td>CALLE</td>\n",
       "      <td>SALUD</td>\n",
       "      <td>PROLONGACION</td>\n",
       "      <td>AVENIDA POLIDUCTO</td>\n",
       "      <td>AVENIDA</td>\n",
       "      <td>...</td>\n",
       "      <td>2668</td>\n",
       "      <td>2</td>\n",
       "      <td>4493863851.0</td>\n",
       "      <td>NaN</td>\n",
       "      <td>NaN</td>\n",
       "      <td>NaN</td>\n",
       "      <td>21.869693</td>\n",
       "      <td>-102.243406</td>\n",
       "      <td>2019-11</td>\n",
       "      <td>0</td>\n",
       "    </tr>\n",
       "    <tr>\n",
       "      <th>6981119</th>\n",
       "      <td>ACCESORIOS Y NOVEDADES</td>\n",
       "      <td>ACCESORIOS Y NOVEDADES</td>\n",
       "      <td>463213</td>\n",
       "      <td>Comercio al por menor de lencería</td>\n",
       "      <td>1</td>\n",
       "      <td>CALLE</td>\n",
       "      <td>SALUD</td>\n",
       "      <td>PROLONGACION</td>\n",
       "      <td>AVENIDA POLIDUCTO</td>\n",
       "      <td>AVENIDA</td>\n",
       "      <td>...</td>\n",
       "      <td>2668</td>\n",
       "      <td>2</td>\n",
       "      <td>4493890114.0</td>\n",
       "      <td>NaN</td>\n",
       "      <td>NaN</td>\n",
       "      <td>NaN</td>\n",
       "      <td>21.869895</td>\n",
       "      <td>-102.244008</td>\n",
       "      <td>2019-11</td>\n",
       "      <td>0</td>\n",
       "    </tr>\n",
       "    <tr>\n",
       "      <th>6981114</th>\n",
       "      <td>PENSION MADAGASCAR</td>\n",
       "      <td>NaN</td>\n",
       "      <td>812990</td>\n",
       "      <td>Otros servicios personales</td>\n",
       "      <td>1</td>\n",
       "      <td>CALLE</td>\n",
       "      <td>AURORA BOREAL</td>\n",
       "      <td>AVENIDA</td>\n",
       "      <td>MARIANO ESCOBEDO</td>\n",
       "      <td>CALLE</td>\n",
       "      <td>...</td>\n",
       "      <td>2475</td>\n",
       "      <td>20</td>\n",
       "      <td>4494485486.0</td>\n",
       "      <td>NaN</td>\n",
       "      <td>NaN</td>\n",
       "      <td>NaN</td>\n",
       "      <td>21.861681</td>\n",
       "      <td>-102.273371</td>\n",
       "      <td>2019-11</td>\n",
       "      <td>0</td>\n",
       "    </tr>\n",
       "  </tbody>\n",
       "</table>\n",
       "<p>5 rows × 41 columns</p>\n",
       "</div>"
      ],
      "text/plain": [
       "                      nom_estab               raz_social  codigo_act  \\\n",
       "id                                                                     \n",
       "6981122      EMBOBINADOS DAVILA                      NaN      811312   \n",
       "6981121             DESECHABLES                      NaN      465914   \n",
       "6981120          ROPA AMERICANA                      NaN      465215   \n",
       "6981119  ACCESORIOS Y NOVEDADES  ACCESORIOS Y NOVEDADES       463213   \n",
       "6981114      PENSION MADAGASCAR                      NaN      812990   \n",
       "\n",
       "                                                nombre_act  per_ocu tipo_vial  \\\n",
       "id                                                                              \n",
       "6981122  Reparación y mantenimiento de maquinaria y equ...        1     CALLE   \n",
       "6981121     Comercio al por menor de artículos desechables        1     CALLE   \n",
       "6981120  Comercio al por menor de artículos y aparatos ...        1     CALLE   \n",
       "6981119                  Comercio al por menor de lencería        1     CALLE   \n",
       "6981114                         Otros servicios personales        1     CALLE   \n",
       "\n",
       "              nom_vial    tipo_v_e_1          nom_v_e_1 tipo_v_e_2  ...  ageb  \\\n",
       "id                                                                  ...         \n",
       "6981122          SALUD  PROLONGACION  AVENIDA POLIDUCTO    AVENIDA  ...  2668   \n",
       "6981121          SALUD  PROLONGACION  AVENIDA POLIDUCTO    AVENIDA  ...  2668   \n",
       "6981120          SALUD  PROLONGACION  AVENIDA POLIDUCTO    AVENIDA  ...  2668   \n",
       "6981119          SALUD  PROLONGACION  AVENIDA POLIDUCTO    AVENIDA  ...  2668   \n",
       "6981114  AURORA BOREAL       AVENIDA   MARIANO ESCOBEDO      CALLE  ...  2475   \n",
       "\n",
       "        manzana      telefono                   correoelec  www tipoUniEco  \\\n",
       "id                                                                           \n",
       "6981122       2  4492758040.0  EMBOBINADOSDAVILA@GMAIL.COM  NaN        NaN   \n",
       "6981121       2  4493692373.0                          NaN  NaN        NaN   \n",
       "6981120       2  4493863851.0                          NaN  NaN        NaN   \n",
       "6981119       2  4493890114.0                          NaN  NaN        NaN   \n",
       "6981114      20  4494485486.0                          NaN  NaN        NaN   \n",
       "\n",
       "           latitud    longitud fecha_alta es_esencial  \n",
       "id                                                     \n",
       "6981122  21.869575 -102.243051    2019-11           0  \n",
       "6981121  21.869584 -102.243079    2019-11           0  \n",
       "6981120  21.869693 -102.243406    2019-11           0  \n",
       "6981119  21.869895 -102.244008    2019-11           0  \n",
       "6981114  21.861681 -102.273371    2019-11           0  \n",
       "\n",
       "[5 rows x 41 columns]"
      ]
     },
     "execution_count": 11,
     "metadata": {},
     "output_type": "execute_result"
    }
   ],
   "source": [
    "df_t.head()"
   ]
  },
  {
   "cell_type": "code",
   "execution_count": 12,
   "id": "7d5f933c",
   "metadata": {
    "tags": []
   },
   "outputs": [],
   "source": [
    "#Se guarda en Local el archivo\n",
    "df_t.to_csv(\"data/denue.csv\")"
   ]
  },
  {
   "cell_type": "markdown",
   "id": "cf97fe97",
   "metadata": {},
   "source": [
    "# S3"
   ]
  },
  {
   "cell_type": "code",
   "execution_count": 13,
   "id": "bf14d2c8",
   "metadata": {
    "tags": []
   },
   "outputs": [],
   "source": [
    "session = boto3.Session(profile_name='datascientist')\n",
    "s3 = session.client('s3')"
   ]
  },
  {
   "cell_type": "code",
   "execution_count": 14,
   "id": "f3ebbb82",
   "metadata": {
    "tags": []
   },
   "outputs": [
    {
     "data": {
      "text/plain": [
       "{'ResponseMetadata': {'RequestId': '3S920N9A9RH6ANVE',\n",
       "  'HostId': '2cQzH0U/SGZvln9y51oBxaaReI0exKzjs2wJnjty35GZ1ufmiY+diOMh8leZuu7IjBPTpmxunPY=',\n",
       "  'HTTPStatusCode': 200,\n",
       "  'HTTPHeaders': {'x-amz-id-2': '2cQzH0U/SGZvln9y51oBxaaReI0exKzjs2wJnjty35GZ1ufmiY+diOMh8leZuu7IjBPTpmxunPY=',\n",
       "   'x-amz-request-id': '3S920N9A9RH6ANVE',\n",
       "   'date': 'Mon, 22 May 2023 08:54:16 GMT',\n",
       "   'location': '/denue-comercios-consulta',\n",
       "   'server': 'AmazonS3',\n",
       "   'content-length': '0'},\n",
       "  'RetryAttempts': 0},\n",
       " 'Location': '/denue-comercios-consulta'}"
      ]
     },
     "execution_count": 14,
     "metadata": {},
     "output_type": "execute_result"
    }
   ],
   "source": [
    "# Crea un nuevo Bucket\n",
    "# OJO: Aqui cambia el nombre del bucket, utiliza tu nombre como sufijo, para\n",
    "# que sea único en el mundo, si no te va a salir error. Si tuviste éxito, el\n",
    "# API de boto3 te va a regresar un HTTPStatusCode de 200. Eso es éxito.\n",
    "BUCKET_NAME = \"denue-comercios-consulta\"\n",
    "s3.create_bucket(Bucket=BUCKET_NAME)"
   ]
  },
  {
   "cell_type": "code",
   "execution_count": 15,
   "id": "f49484d7",
   "metadata": {
    "tags": []
   },
   "outputs": [],
   "source": [
    "# Upload los dos archivos a S3\n",
    "s3.upload_file(Filename=\"data/denue.csv\", Bucket=BUCKET_NAME, Key=\"data/denue.csv\")"
   ]
  },
  {
   "cell_type": "code",
   "execution_count": null,
   "id": "9f72ea2d",
   "metadata": {},
   "outputs": [],
   "source": []
  }
 ],
 "metadata": {
  "kernelspec": {
   "display_name": "Python 3 (ipykernel)",
   "language": "python",
   "name": "python3"
  },
  "language_info": {
   "codemirror_mode": {
    "name": "ipython",
    "version": 3
   },
   "file_extension": ".py",
   "mimetype": "text/x-python",
   "name": "python",
   "nbconvert_exporter": "python",
   "pygments_lexer": "ipython3",
   "version": "3.10.6"
  },
  "latex_envs": {
   "LaTeX_envs_menu_present": true,
   "autoclose": false,
   "autocomplete": true,
   "bibliofile": "biblio.bib",
   "cite_by": "apalike",
   "current_citInitial": 1,
   "eqLabelWithNumbers": true,
   "eqNumInitial": 1,
   "hotkeys": {
    "equation": "Ctrl-E",
    "itemize": "Ctrl-I"
   },
   "labels_anchors": false,
   "latex_user_defs": false,
   "report_style_numbering": false,
   "user_envs_cfg": false
  },
  "toc": {
   "base_numbering": 1,
   "nav_menu": {},
   "number_sections": true,
   "sideBar": true,
   "skip_h1_title": false,
   "title_cell": "Table of Contents",
   "title_sidebar": "Contents",
   "toc_cell": false,
   "toc_position": {},
   "toc_section_display": true,
   "toc_window_display": false
  }
 },
 "nbformat": 4,
 "nbformat_minor": 5
}
